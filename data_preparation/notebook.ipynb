{
 "cells": [
  {
   "cell_type": "code",
   "id": "initial_id",
   "metadata": {
    "collapsed": true,
    "ExecuteTime": {
     "end_time": "2025-04-24T15:43:28.088430Z",
     "start_time": "2025-04-24T15:43:28.074411Z"
    }
   },
   "source": [
    "import os.path\n",
    "\n",
    "import pandas as pd\n",
    "import seaborn as sns\n",
    "from matplotlib import pyplot as plt"
   ],
   "outputs": [],
   "execution_count": 1
  },
  {
   "metadata": {
    "ExecuteTime": {
     "end_time": "2025-04-24T15:43:28.120019Z",
     "start_time": "2025-04-24T15:43:28.107493Z"
    }
   },
   "cell_type": "code",
   "source": [
    "# FILE_NAME = \"1. vlna všetko new 13.11.2024.xlsx\"\n",
    "# FILE_NAME = \"2. vlna všetko new 13.11.2024.xlsx\"\n",
    "# FILE_NAME = \"3. vlna všetko new 13.11.2024.xlsx\"\n",
    "FILE_NAME = \"4. vlna do 31.5.2024 všetko new.xlsx\"\n",
    "SOURCE_DIR = \"../source_data/\""
   ],
   "id": "263098c4f65b00d2",
   "outputs": [],
   "execution_count": 2
  },
  {
   "metadata": {},
   "cell_type": "markdown",
   "source": "# Load dataset",
   "id": "48928591ced43b8e"
  },
  {
   "metadata": {
    "ExecuteTime": {
     "end_time": "2025-04-24T15:43:58.335989Z",
     "start_time": "2025-04-24T15:43:28.143065Z"
    }
   },
   "cell_type": "code",
   "source": [
    "df = pd.read_excel(os.path.join(SOURCE_DIR, FILE_NAME))\n",
    "df.head()"
   ],
   "id": "e2824ddc1c01acef",
   "outputs": [
    {
     "data": {
      "text/plain": [
       "   Poradie                  Meno                  Kluc Pohlavie  Vek  \\\n",
       "0        1  TOHAMJTTYUMQPEAPLOLF  PUJBJTXJUXZSARCEQQTT     Žena   67   \n",
       "1        2  AIHAMJYHUHJYXCAJUNKI  WAJBXAHUYMDEUPPQOFOO      Muž   48   \n",
       "2        3  MPHAMXBJBYECRYQFOGLB  AOJHBYJHYXEHUOPCIGOR      Muž   67   \n",
       "3        4  XCHAMXHMMHMHFDVLLWER  AHJXBBHMHYGGXOFVGAAA      Muž   84   \n",
       "4        5  OKHAMXHXAAHXCYABXARB  ZUJHYUTXHMBYWHDPLQSS      Muž   74   \n",
       "\n",
       "   Poisťovňa  Typ   Záznam Dátum príjmu  Kód príjmu  ...  \\\n",
       "0         24  LZO  nájdený   01.01.2022           1  ...   \n",
       "1         27  LZO  nájdený   10.01.2022           1  ...   \n",
       "2         25  LZO  nájdený   03.04.2022           1  ...   \n",
       "3         25  LZO  nájdený   08.10.2023           1  ...   \n",
       "4         24  LZO  nájdený   28.07.2022           1  ...   \n",
       "\n",
       "                                    CD8+  \\\n",
       "0  03.01.2022 08:00:00 | 0,26; _x000D_\\n   \n",
       "1  11.01.2022 11:17:00 | 0,27; _x000D_\\n   \n",
       "2  04.04.2022 09:55:00 | 0,15; _x000D_\\n   \n",
       "3  09.10.2023 09:48:00 | 0,08; _x000D_\\n   \n",
       "4                                    NaN   \n",
       "\n",
       "                                CD4+/CD8+  \\\n",
       "0   03.01.2022 08:00:00 | 2,91; _x000D_\\n   \n",
       "1   11.01.2022 11:17:00 | 1,80; _x000D_\\n   \n",
       "2   04.04.2022 09:55:00 | 1,28; _x000D_\\n   \n",
       "3  09.10.2023 09:48:00 | 11,62; _x000D_\\n   \n",
       "4                                     NaN   \n",
       "\n",
       "                                                 PDW  \\\n",
       "0  03.01.2022 11:23:00 | 14,70; _x000D_\\n01.01.20...   \n",
       "1  11.01.2022 11:49:00 | 13,90; _x000D_\\n10.01.20...   \n",
       "2  04.04.2022 10:49:00 | 14,70; _x000D_\\n03.04.20...   \n",
       "3  09.10.2023 11:40:00 | 12,10; _x000D_\\n08.10.20...   \n",
       "4  02.08.2022 13:38:00 | 17,45; _x000D_\\n28.07.20...   \n",
       "\n",
       "                                              S-PBNP  \\\n",
       "0            01.01.2022 20:00:00 | 994,30; _x000D_\\n   \n",
       "1            10.01.2022 12:19:00 | 120,40; _x000D_\\n   \n",
       "2            03.04.2022 21:04:00 | 271,50; _x000D_\\n   \n",
       "3  08.10.2023 08:27:00 | 15018,00; _x000D_\\n11.10...   \n",
       "4           28.07.2022 21:29:00 | 1272,00; _x000D_\\n   \n",
       "\n",
       "                                               S-IL6  \\\n",
       "0  01.01.2022 20:00:00 | 171,50; _x000D_\\n03.01.2...   \n",
       "1  10.01.2022 12:19:00 | 49,32; _x000D_\\n13.01.20...   \n",
       "2  03.04.2022 21:04:00 | 85,96; _x000D_\\n05.04.20...   \n",
       "3  08.10.2023 08:27:00 | 108,90; _x000D_\\n11.10.2...   \n",
       "4  28.07.2022 21:29:00 | 32,90; _x000D_\\n31.07.20...   \n",
       "\n",
       "                                   CD19+  \\\n",
       "0  03.01.2022 08:00:00 | 0,14; _x000D_\\n   \n",
       "1                                    NaN   \n",
       "2  04.04.2022 09:55:00 | 0,11; _x000D_\\n   \n",
       "3  09.10.2023 09:48:00 | 0,26; _x000D_\\n   \n",
       "4                                    NaN   \n",
       "\n",
       "                                      NK  \\\n",
       "0  03.01.2022 08:00:00 | 0,16; _x000D_\\n   \n",
       "1                                    NaN   \n",
       "2  04.04.2022 09:55:00 | 0,27; _x000D_\\n   \n",
       "3  09.10.2023 09:48:00 | 0,09; _x000D_\\n   \n",
       "4                                    NaN   \n",
       "\n",
       "                                   S-VITD  \\\n",
       "0  01.01.2022 20:00:00 | 38,77; _x000D_\\n   \n",
       "1  10.01.2022 12:19:00 | 26,42; _x000D_\\n   \n",
       "2  03.04.2022 21:04:00 | 19,37; _x000D_\\n   \n",
       "3                                     NaN   \n",
       "4  28.07.2022 21:29:00 | 18,32; _x000D_\\n   \n",
       "\n",
       "                                          NE/LY(NLR)  \\\n",
       "0  01.01.2022 20:00:00 | 4,99; _x000D_\\n03.01.202...   \n",
       "1  10.01.2022 12:19:00 | 19,66; _x000D_\\n13.01.20...   \n",
       "2  03.04.2022 21:04:00 | 7,92; _x000D_\\n07.04.202...   \n",
       "3  08.10.2023 08:29:00 | 11,13; _x000D_\\n11.10.20...   \n",
       "4  02.08.2022 13:38:00 | 5,51; _x000D_\\n28.07.202...   \n",
       "\n",
       "                                          D-dimér HS  \n",
       "0  01.01.2022 20:00:00 | 0,542; _x000D_\\n03.01.20...  \n",
       "1  10.01.2022 12:19:00 | 0,877; _x000D_\\n13.01.20...  \n",
       "2  03.04.2022 21:04:00 | 0,432; _x000D_\\n07.04.20...  \n",
       "3  08.10.2023 08:29:00 | 3,036; _x000D_\\n11.10.20...  \n",
       "4  28.07.2022 21:28:00 | 0,640; _x000D_\\n31.07.20...  \n",
       "\n",
       "[5 rows x 73 columns]"
      ],
      "text/html": [
       "<div>\n",
       "<style scoped>\n",
       "    .dataframe tbody tr th:only-of-type {\n",
       "        vertical-align: middle;\n",
       "    }\n",
       "\n",
       "    .dataframe tbody tr th {\n",
       "        vertical-align: top;\n",
       "    }\n",
       "\n",
       "    .dataframe thead th {\n",
       "        text-align: right;\n",
       "    }\n",
       "</style>\n",
       "<table border=\"1\" class=\"dataframe\">\n",
       "  <thead>\n",
       "    <tr style=\"text-align: right;\">\n",
       "      <th></th>\n",
       "      <th>Poradie</th>\n",
       "      <th>Meno</th>\n",
       "      <th>Kluc</th>\n",
       "      <th>Pohlavie</th>\n",
       "      <th>Vek</th>\n",
       "      <th>Poisťovňa</th>\n",
       "      <th>Typ</th>\n",
       "      <th>Záznam</th>\n",
       "      <th>Dátum príjmu</th>\n",
       "      <th>Kód príjmu</th>\n",
       "      <th>...</th>\n",
       "      <th>CD8+</th>\n",
       "      <th>CD4+/CD8+</th>\n",
       "      <th>PDW</th>\n",
       "      <th>S-PBNP</th>\n",
       "      <th>S-IL6</th>\n",
       "      <th>CD19+</th>\n",
       "      <th>NK</th>\n",
       "      <th>S-VITD</th>\n",
       "      <th>NE/LY(NLR)</th>\n",
       "      <th>D-dimér HS</th>\n",
       "    </tr>\n",
       "  </thead>\n",
       "  <tbody>\n",
       "    <tr>\n",
       "      <th>0</th>\n",
       "      <td>1</td>\n",
       "      <td>TOHAMJTTYUMQPEAPLOLF</td>\n",
       "      <td>PUJBJTXJUXZSARCEQQTT</td>\n",
       "      <td>Žena</td>\n",
       "      <td>67</td>\n",
       "      <td>24</td>\n",
       "      <td>LZO</td>\n",
       "      <td>nájdený</td>\n",
       "      <td>01.01.2022</td>\n",
       "      <td>1</td>\n",
       "      <td>...</td>\n",
       "      <td>03.01.2022 08:00:00 | 0,26; _x000D_\\n</td>\n",
       "      <td>03.01.2022 08:00:00 | 2,91; _x000D_\\n</td>\n",
       "      <td>03.01.2022 11:23:00 | 14,70; _x000D_\\n01.01.20...</td>\n",
       "      <td>01.01.2022 20:00:00 | 994,30; _x000D_\\n</td>\n",
       "      <td>01.01.2022 20:00:00 | 171,50; _x000D_\\n03.01.2...</td>\n",
       "      <td>03.01.2022 08:00:00 | 0,14; _x000D_\\n</td>\n",
       "      <td>03.01.2022 08:00:00 | 0,16; _x000D_\\n</td>\n",
       "      <td>01.01.2022 20:00:00 | 38,77; _x000D_\\n</td>\n",
       "      <td>01.01.2022 20:00:00 | 4,99; _x000D_\\n03.01.202...</td>\n",
       "      <td>01.01.2022 20:00:00 | 0,542; _x000D_\\n03.01.20...</td>\n",
       "    </tr>\n",
       "    <tr>\n",
       "      <th>1</th>\n",
       "      <td>2</td>\n",
       "      <td>AIHAMJYHUHJYXCAJUNKI</td>\n",
       "      <td>WAJBXAHUYMDEUPPQOFOO</td>\n",
       "      <td>Muž</td>\n",
       "      <td>48</td>\n",
       "      <td>27</td>\n",
       "      <td>LZO</td>\n",
       "      <td>nájdený</td>\n",
       "      <td>10.01.2022</td>\n",
       "      <td>1</td>\n",
       "      <td>...</td>\n",
       "      <td>11.01.2022 11:17:00 | 0,27; _x000D_\\n</td>\n",
       "      <td>11.01.2022 11:17:00 | 1,80; _x000D_\\n</td>\n",
       "      <td>11.01.2022 11:49:00 | 13,90; _x000D_\\n10.01.20...</td>\n",
       "      <td>10.01.2022 12:19:00 | 120,40; _x000D_\\n</td>\n",
       "      <td>10.01.2022 12:19:00 | 49,32; _x000D_\\n13.01.20...</td>\n",
       "      <td>NaN</td>\n",
       "      <td>NaN</td>\n",
       "      <td>10.01.2022 12:19:00 | 26,42; _x000D_\\n</td>\n",
       "      <td>10.01.2022 12:19:00 | 19,66; _x000D_\\n13.01.20...</td>\n",
       "      <td>10.01.2022 12:19:00 | 0,877; _x000D_\\n13.01.20...</td>\n",
       "    </tr>\n",
       "    <tr>\n",
       "      <th>2</th>\n",
       "      <td>3</td>\n",
       "      <td>MPHAMXBJBYECRYQFOGLB</td>\n",
       "      <td>AOJHBYJHYXEHUOPCIGOR</td>\n",
       "      <td>Muž</td>\n",
       "      <td>67</td>\n",
       "      <td>25</td>\n",
       "      <td>LZO</td>\n",
       "      <td>nájdený</td>\n",
       "      <td>03.04.2022</td>\n",
       "      <td>1</td>\n",
       "      <td>...</td>\n",
       "      <td>04.04.2022 09:55:00 | 0,15; _x000D_\\n</td>\n",
       "      <td>04.04.2022 09:55:00 | 1,28; _x000D_\\n</td>\n",
       "      <td>04.04.2022 10:49:00 | 14,70; _x000D_\\n03.04.20...</td>\n",
       "      <td>03.04.2022 21:04:00 | 271,50; _x000D_\\n</td>\n",
       "      <td>03.04.2022 21:04:00 | 85,96; _x000D_\\n05.04.20...</td>\n",
       "      <td>04.04.2022 09:55:00 | 0,11; _x000D_\\n</td>\n",
       "      <td>04.04.2022 09:55:00 | 0,27; _x000D_\\n</td>\n",
       "      <td>03.04.2022 21:04:00 | 19,37; _x000D_\\n</td>\n",
       "      <td>03.04.2022 21:04:00 | 7,92; _x000D_\\n07.04.202...</td>\n",
       "      <td>03.04.2022 21:04:00 | 0,432; _x000D_\\n07.04.20...</td>\n",
       "    </tr>\n",
       "    <tr>\n",
       "      <th>3</th>\n",
       "      <td>4</td>\n",
       "      <td>XCHAMXHMMHMHFDVLLWER</td>\n",
       "      <td>AHJXBBHMHYGGXOFVGAAA</td>\n",
       "      <td>Muž</td>\n",
       "      <td>84</td>\n",
       "      <td>25</td>\n",
       "      <td>LZO</td>\n",
       "      <td>nájdený</td>\n",
       "      <td>08.10.2023</td>\n",
       "      <td>1</td>\n",
       "      <td>...</td>\n",
       "      <td>09.10.2023 09:48:00 | 0,08; _x000D_\\n</td>\n",
       "      <td>09.10.2023 09:48:00 | 11,62; _x000D_\\n</td>\n",
       "      <td>09.10.2023 11:40:00 | 12,10; _x000D_\\n08.10.20...</td>\n",
       "      <td>08.10.2023 08:27:00 | 15018,00; _x000D_\\n11.10...</td>\n",
       "      <td>08.10.2023 08:27:00 | 108,90; _x000D_\\n11.10.2...</td>\n",
       "      <td>09.10.2023 09:48:00 | 0,26; _x000D_\\n</td>\n",
       "      <td>09.10.2023 09:48:00 | 0,09; _x000D_\\n</td>\n",
       "      <td>NaN</td>\n",
       "      <td>08.10.2023 08:29:00 | 11,13; _x000D_\\n11.10.20...</td>\n",
       "      <td>08.10.2023 08:29:00 | 3,036; _x000D_\\n11.10.20...</td>\n",
       "    </tr>\n",
       "    <tr>\n",
       "      <th>4</th>\n",
       "      <td>5</td>\n",
       "      <td>OKHAMXHXAAHXCYABXARB</td>\n",
       "      <td>ZUJHYUTXHMBYWHDPLQSS</td>\n",
       "      <td>Muž</td>\n",
       "      <td>74</td>\n",
       "      <td>24</td>\n",
       "      <td>LZO</td>\n",
       "      <td>nájdený</td>\n",
       "      <td>28.07.2022</td>\n",
       "      <td>1</td>\n",
       "      <td>...</td>\n",
       "      <td>NaN</td>\n",
       "      <td>NaN</td>\n",
       "      <td>02.08.2022 13:38:00 | 17,45; _x000D_\\n28.07.20...</td>\n",
       "      <td>28.07.2022 21:29:00 | 1272,00; _x000D_\\n</td>\n",
       "      <td>28.07.2022 21:29:00 | 32,90; _x000D_\\n31.07.20...</td>\n",
       "      <td>NaN</td>\n",
       "      <td>NaN</td>\n",
       "      <td>28.07.2022 21:29:00 | 18,32; _x000D_\\n</td>\n",
       "      <td>02.08.2022 13:38:00 | 5,51; _x000D_\\n28.07.202...</td>\n",
       "      <td>28.07.2022 21:28:00 | 0,640; _x000D_\\n31.07.20...</td>\n",
       "    </tr>\n",
       "  </tbody>\n",
       "</table>\n",
       "<p>5 rows × 73 columns</p>\n",
       "</div>"
      ]
     },
     "execution_count": 3,
     "metadata": {},
     "output_type": "execute_result"
    }
   ],
   "execution_count": 3
  },
  {
   "metadata": {
    "ExecuteTime": {
     "end_time": "2025-04-24T15:43:59.259899Z",
     "start_time": "2025-04-24T15:43:59.231312Z"
    }
   },
   "cell_type": "code",
   "source": [
    "# drop unnamed columns\n",
    "df = df.loc[:, ~df.columns.str.contains(\"^Unnamed\")]\n",
    "# drop columns: Kluc, Poisťovňa, Záznam\n",
    "df.drop(columns=[\"Kluc\", \"Meno\", \"Poisťovňa\", \"Záznam\", \"S-Bil-D\"], inplace=True)\n",
    "df.head()"
   ],
   "id": "be6bb60ec0c01cf8",
   "outputs": [
    {
     "data": {
      "text/plain": [
       "   Poradie Pohlavie  Vek  Typ Dátum príjmu  Kód príjmu Dátum prepustenia  \\\n",
       "0        1     Žena   67  LZO   01.01.2022           1        10.01.2022   \n",
       "1        2      Muž   48  LZO   10.01.2022           1        17.01.2022   \n",
       "2        3      Muž   67  LZO   03.04.2022           1        13.04.2022   \n",
       "3        4      Muž   84  LZO   08.10.2023           1        12.10.2023   \n",
       "4        5      Muž   74  LZO   28.07.2022           1        08.08.2022   \n",
       "\n",
       "   Kód prepustenia                              HLN Dg.  \\\n",
       "0                7  J12.8 | Iný vírusový zápal pľúc | B   \n",
       "1                1  J12.8 | Iný vírusový zápal pľúc | B   \n",
       "2                1  J12.8 | Iný vírusový zápal pľúc | B   \n",
       "3                7  J12.8 | Iný vírusový zápal pľúc | B   \n",
       "4                1  J12.8 | Iný vírusový zápal pľúc | Z   \n",
       "\n",
       "                                            Diagnózy  ...  \\\n",
       "0  U07.3 | Potvrdená infekcia COVID-19 PCR testom...  ...   \n",
       "1  U07.3 | Potvrdená infekcia COVID-19 PCR testom...  ...   \n",
       "2  J12.8 | Iný vírusový zápal pľúc | B; _x000D_\\n...  ...   \n",
       "3  U07.3 | Potvrdená infekcia COVID-19 PCR testom...  ...   \n",
       "4  U07.1 | Potvrdená infekcia COVID-19 | Z; _x000...  ...   \n",
       "\n",
       "                                    CD8+  \\\n",
       "0  03.01.2022 08:00:00 | 0,26; _x000D_\\n   \n",
       "1  11.01.2022 11:17:00 | 0,27; _x000D_\\n   \n",
       "2  04.04.2022 09:55:00 | 0,15; _x000D_\\n   \n",
       "3  09.10.2023 09:48:00 | 0,08; _x000D_\\n   \n",
       "4                                    NaN   \n",
       "\n",
       "                                CD4+/CD8+  \\\n",
       "0   03.01.2022 08:00:00 | 2,91; _x000D_\\n   \n",
       "1   11.01.2022 11:17:00 | 1,80; _x000D_\\n   \n",
       "2   04.04.2022 09:55:00 | 1,28; _x000D_\\n   \n",
       "3  09.10.2023 09:48:00 | 11,62; _x000D_\\n   \n",
       "4                                     NaN   \n",
       "\n",
       "                                                 PDW  \\\n",
       "0  03.01.2022 11:23:00 | 14,70; _x000D_\\n01.01.20...   \n",
       "1  11.01.2022 11:49:00 | 13,90; _x000D_\\n10.01.20...   \n",
       "2  04.04.2022 10:49:00 | 14,70; _x000D_\\n03.04.20...   \n",
       "3  09.10.2023 11:40:00 | 12,10; _x000D_\\n08.10.20...   \n",
       "4  02.08.2022 13:38:00 | 17,45; _x000D_\\n28.07.20...   \n",
       "\n",
       "                                              S-PBNP  \\\n",
       "0            01.01.2022 20:00:00 | 994,30; _x000D_\\n   \n",
       "1            10.01.2022 12:19:00 | 120,40; _x000D_\\n   \n",
       "2            03.04.2022 21:04:00 | 271,50; _x000D_\\n   \n",
       "3  08.10.2023 08:27:00 | 15018,00; _x000D_\\n11.10...   \n",
       "4           28.07.2022 21:29:00 | 1272,00; _x000D_\\n   \n",
       "\n",
       "                                               S-IL6  \\\n",
       "0  01.01.2022 20:00:00 | 171,50; _x000D_\\n03.01.2...   \n",
       "1  10.01.2022 12:19:00 | 49,32; _x000D_\\n13.01.20...   \n",
       "2  03.04.2022 21:04:00 | 85,96; _x000D_\\n05.04.20...   \n",
       "3  08.10.2023 08:27:00 | 108,90; _x000D_\\n11.10.2...   \n",
       "4  28.07.2022 21:29:00 | 32,90; _x000D_\\n31.07.20...   \n",
       "\n",
       "                                   CD19+  \\\n",
       "0  03.01.2022 08:00:00 | 0,14; _x000D_\\n   \n",
       "1                                    NaN   \n",
       "2  04.04.2022 09:55:00 | 0,11; _x000D_\\n   \n",
       "3  09.10.2023 09:48:00 | 0,26; _x000D_\\n   \n",
       "4                                    NaN   \n",
       "\n",
       "                                      NK  \\\n",
       "0  03.01.2022 08:00:00 | 0,16; _x000D_\\n   \n",
       "1                                    NaN   \n",
       "2  04.04.2022 09:55:00 | 0,27; _x000D_\\n   \n",
       "3  09.10.2023 09:48:00 | 0,09; _x000D_\\n   \n",
       "4                                    NaN   \n",
       "\n",
       "                                   S-VITD  \\\n",
       "0  01.01.2022 20:00:00 | 38,77; _x000D_\\n   \n",
       "1  10.01.2022 12:19:00 | 26,42; _x000D_\\n   \n",
       "2  03.04.2022 21:04:00 | 19,37; _x000D_\\n   \n",
       "3                                     NaN   \n",
       "4  28.07.2022 21:29:00 | 18,32; _x000D_\\n   \n",
       "\n",
       "                                          NE/LY(NLR)  \\\n",
       "0  01.01.2022 20:00:00 | 4,99; _x000D_\\n03.01.202...   \n",
       "1  10.01.2022 12:19:00 | 19,66; _x000D_\\n13.01.20...   \n",
       "2  03.04.2022 21:04:00 | 7,92; _x000D_\\n07.04.202...   \n",
       "3  08.10.2023 08:29:00 | 11,13; _x000D_\\n11.10.20...   \n",
       "4  02.08.2022 13:38:00 | 5,51; _x000D_\\n28.07.202...   \n",
       "\n",
       "                                          D-dimér HS  \n",
       "0  01.01.2022 20:00:00 | 0,542; _x000D_\\n03.01.20...  \n",
       "1  10.01.2022 12:19:00 | 0,877; _x000D_\\n13.01.20...  \n",
       "2  03.04.2022 21:04:00 | 0,432; _x000D_\\n07.04.20...  \n",
       "3  08.10.2023 08:29:00 | 3,036; _x000D_\\n11.10.20...  \n",
       "4  28.07.2022 21:28:00 | 0,640; _x000D_\\n31.07.20...  \n",
       "\n",
       "[5 rows x 68 columns]"
      ],
      "text/html": [
       "<div>\n",
       "<style scoped>\n",
       "    .dataframe tbody tr th:only-of-type {\n",
       "        vertical-align: middle;\n",
       "    }\n",
       "\n",
       "    .dataframe tbody tr th {\n",
       "        vertical-align: top;\n",
       "    }\n",
       "\n",
       "    .dataframe thead th {\n",
       "        text-align: right;\n",
       "    }\n",
       "</style>\n",
       "<table border=\"1\" class=\"dataframe\">\n",
       "  <thead>\n",
       "    <tr style=\"text-align: right;\">\n",
       "      <th></th>\n",
       "      <th>Poradie</th>\n",
       "      <th>Pohlavie</th>\n",
       "      <th>Vek</th>\n",
       "      <th>Typ</th>\n",
       "      <th>Dátum príjmu</th>\n",
       "      <th>Kód príjmu</th>\n",
       "      <th>Dátum prepustenia</th>\n",
       "      <th>Kód prepustenia</th>\n",
       "      <th>HLN Dg.</th>\n",
       "      <th>Diagnózy</th>\n",
       "      <th>...</th>\n",
       "      <th>CD8+</th>\n",
       "      <th>CD4+/CD8+</th>\n",
       "      <th>PDW</th>\n",
       "      <th>S-PBNP</th>\n",
       "      <th>S-IL6</th>\n",
       "      <th>CD19+</th>\n",
       "      <th>NK</th>\n",
       "      <th>S-VITD</th>\n",
       "      <th>NE/LY(NLR)</th>\n",
       "      <th>D-dimér HS</th>\n",
       "    </tr>\n",
       "  </thead>\n",
       "  <tbody>\n",
       "    <tr>\n",
       "      <th>0</th>\n",
       "      <td>1</td>\n",
       "      <td>Žena</td>\n",
       "      <td>67</td>\n",
       "      <td>LZO</td>\n",
       "      <td>01.01.2022</td>\n",
       "      <td>1</td>\n",
       "      <td>10.01.2022</td>\n",
       "      <td>7</td>\n",
       "      <td>J12.8 | Iný vírusový zápal pľúc | B</td>\n",
       "      <td>U07.3 | Potvrdená infekcia COVID-19 PCR testom...</td>\n",
       "      <td>...</td>\n",
       "      <td>03.01.2022 08:00:00 | 0,26; _x000D_\\n</td>\n",
       "      <td>03.01.2022 08:00:00 | 2,91; _x000D_\\n</td>\n",
       "      <td>03.01.2022 11:23:00 | 14,70; _x000D_\\n01.01.20...</td>\n",
       "      <td>01.01.2022 20:00:00 | 994,30; _x000D_\\n</td>\n",
       "      <td>01.01.2022 20:00:00 | 171,50; _x000D_\\n03.01.2...</td>\n",
       "      <td>03.01.2022 08:00:00 | 0,14; _x000D_\\n</td>\n",
       "      <td>03.01.2022 08:00:00 | 0,16; _x000D_\\n</td>\n",
       "      <td>01.01.2022 20:00:00 | 38,77; _x000D_\\n</td>\n",
       "      <td>01.01.2022 20:00:00 | 4,99; _x000D_\\n03.01.202...</td>\n",
       "      <td>01.01.2022 20:00:00 | 0,542; _x000D_\\n03.01.20...</td>\n",
       "    </tr>\n",
       "    <tr>\n",
       "      <th>1</th>\n",
       "      <td>2</td>\n",
       "      <td>Muž</td>\n",
       "      <td>48</td>\n",
       "      <td>LZO</td>\n",
       "      <td>10.01.2022</td>\n",
       "      <td>1</td>\n",
       "      <td>17.01.2022</td>\n",
       "      <td>1</td>\n",
       "      <td>J12.8 | Iný vírusový zápal pľúc | B</td>\n",
       "      <td>U07.3 | Potvrdená infekcia COVID-19 PCR testom...</td>\n",
       "      <td>...</td>\n",
       "      <td>11.01.2022 11:17:00 | 0,27; _x000D_\\n</td>\n",
       "      <td>11.01.2022 11:17:00 | 1,80; _x000D_\\n</td>\n",
       "      <td>11.01.2022 11:49:00 | 13,90; _x000D_\\n10.01.20...</td>\n",
       "      <td>10.01.2022 12:19:00 | 120,40; _x000D_\\n</td>\n",
       "      <td>10.01.2022 12:19:00 | 49,32; _x000D_\\n13.01.20...</td>\n",
       "      <td>NaN</td>\n",
       "      <td>NaN</td>\n",
       "      <td>10.01.2022 12:19:00 | 26,42; _x000D_\\n</td>\n",
       "      <td>10.01.2022 12:19:00 | 19,66; _x000D_\\n13.01.20...</td>\n",
       "      <td>10.01.2022 12:19:00 | 0,877; _x000D_\\n13.01.20...</td>\n",
       "    </tr>\n",
       "    <tr>\n",
       "      <th>2</th>\n",
       "      <td>3</td>\n",
       "      <td>Muž</td>\n",
       "      <td>67</td>\n",
       "      <td>LZO</td>\n",
       "      <td>03.04.2022</td>\n",
       "      <td>1</td>\n",
       "      <td>13.04.2022</td>\n",
       "      <td>1</td>\n",
       "      <td>J12.8 | Iný vírusový zápal pľúc | B</td>\n",
       "      <td>J12.8 | Iný vírusový zápal pľúc | B; _x000D_\\n...</td>\n",
       "      <td>...</td>\n",
       "      <td>04.04.2022 09:55:00 | 0,15; _x000D_\\n</td>\n",
       "      <td>04.04.2022 09:55:00 | 1,28; _x000D_\\n</td>\n",
       "      <td>04.04.2022 10:49:00 | 14,70; _x000D_\\n03.04.20...</td>\n",
       "      <td>03.04.2022 21:04:00 | 271,50; _x000D_\\n</td>\n",
       "      <td>03.04.2022 21:04:00 | 85,96; _x000D_\\n05.04.20...</td>\n",
       "      <td>04.04.2022 09:55:00 | 0,11; _x000D_\\n</td>\n",
       "      <td>04.04.2022 09:55:00 | 0,27; _x000D_\\n</td>\n",
       "      <td>03.04.2022 21:04:00 | 19,37; _x000D_\\n</td>\n",
       "      <td>03.04.2022 21:04:00 | 7,92; _x000D_\\n07.04.202...</td>\n",
       "      <td>03.04.2022 21:04:00 | 0,432; _x000D_\\n07.04.20...</td>\n",
       "    </tr>\n",
       "    <tr>\n",
       "      <th>3</th>\n",
       "      <td>4</td>\n",
       "      <td>Muž</td>\n",
       "      <td>84</td>\n",
       "      <td>LZO</td>\n",
       "      <td>08.10.2023</td>\n",
       "      <td>1</td>\n",
       "      <td>12.10.2023</td>\n",
       "      <td>7</td>\n",
       "      <td>J12.8 | Iný vírusový zápal pľúc | B</td>\n",
       "      <td>U07.3 | Potvrdená infekcia COVID-19 PCR testom...</td>\n",
       "      <td>...</td>\n",
       "      <td>09.10.2023 09:48:00 | 0,08; _x000D_\\n</td>\n",
       "      <td>09.10.2023 09:48:00 | 11,62; _x000D_\\n</td>\n",
       "      <td>09.10.2023 11:40:00 | 12,10; _x000D_\\n08.10.20...</td>\n",
       "      <td>08.10.2023 08:27:00 | 15018,00; _x000D_\\n11.10...</td>\n",
       "      <td>08.10.2023 08:27:00 | 108,90; _x000D_\\n11.10.2...</td>\n",
       "      <td>09.10.2023 09:48:00 | 0,26; _x000D_\\n</td>\n",
       "      <td>09.10.2023 09:48:00 | 0,09; _x000D_\\n</td>\n",
       "      <td>NaN</td>\n",
       "      <td>08.10.2023 08:29:00 | 11,13; _x000D_\\n11.10.20...</td>\n",
       "      <td>08.10.2023 08:29:00 | 3,036; _x000D_\\n11.10.20...</td>\n",
       "    </tr>\n",
       "    <tr>\n",
       "      <th>4</th>\n",
       "      <td>5</td>\n",
       "      <td>Muž</td>\n",
       "      <td>74</td>\n",
       "      <td>LZO</td>\n",
       "      <td>28.07.2022</td>\n",
       "      <td>1</td>\n",
       "      <td>08.08.2022</td>\n",
       "      <td>1</td>\n",
       "      <td>J12.8 | Iný vírusový zápal pľúc | Z</td>\n",
       "      <td>U07.1 | Potvrdená infekcia COVID-19 | Z; _x000...</td>\n",
       "      <td>...</td>\n",
       "      <td>NaN</td>\n",
       "      <td>NaN</td>\n",
       "      <td>02.08.2022 13:38:00 | 17,45; _x000D_\\n28.07.20...</td>\n",
       "      <td>28.07.2022 21:29:00 | 1272,00; _x000D_\\n</td>\n",
       "      <td>28.07.2022 21:29:00 | 32,90; _x000D_\\n31.07.20...</td>\n",
       "      <td>NaN</td>\n",
       "      <td>NaN</td>\n",
       "      <td>28.07.2022 21:29:00 | 18,32; _x000D_\\n</td>\n",
       "      <td>02.08.2022 13:38:00 | 5,51; _x000D_\\n28.07.202...</td>\n",
       "      <td>28.07.2022 21:28:00 | 0,640; _x000D_\\n31.07.20...</td>\n",
       "    </tr>\n",
       "  </tbody>\n",
       "</table>\n",
       "<p>5 rows × 68 columns</p>\n",
       "</div>"
      ]
     },
     "execution_count": 4,
     "metadata": {},
     "output_type": "execute_result"
    }
   ],
   "execution_count": 4
  },
  {
   "metadata": {
    "ExecuteTime": {
     "end_time": "2025-04-24T15:43:59.338674Z",
     "start_time": "2025-04-24T15:43:59.321549Z"
    }
   },
   "cell_type": "code",
   "source": "print(\"Length of the data:\", len(df))",
   "id": "d88243691209d67b",
   "outputs": [
    {
     "name": "stdout",
     "output_type": "stream",
     "text": [
      "Length of the data: 1251\n"
     ]
    }
   ],
   "execution_count": 5
  },
  {
   "metadata": {
    "ExecuteTime": {
     "end_time": "2025-04-24T15:45:18.860108Z",
     "start_time": "2025-04-24T15:45:18.767324Z"
    }
   },
   "cell_type": "code",
   "source": [
    "# save first 5 rows of df as excel\n",
    "df.head().to_excel(\"example_data.xlsx\", index=False)"
   ],
   "id": "6d0ec49b0bb70564",
   "outputs": [],
   "execution_count": 6
  },
  {
   "metadata": {},
   "cell_type": "markdown",
   "source": "### Categorize patients based on the severity of the course of the disease",
   "id": "a97dc90f3220ee40"
  },
  {
   "metadata": {
    "ExecuteTime": {
     "end_time": "2025-02-05T00:42:34.076567Z",
     "start_time": "2025-02-05T00:42:34.047569Z"
    }
   },
   "cell_type": "code",
   "source": [
    "from data_preparation.utils import categorize_severity\n",
    "\n",
    "df[\"Závažnosť priebehu ochorenia\"] = df.apply(categorize_severity, axis=1)\n",
    "df.drop(columns=[\"Kód prepustenia\"], inplace=True)"
   ],
   "id": "36ddb3e4d54ffaea",
   "outputs": [],
   "execution_count": 84
  },
  {
   "metadata": {},
   "cell_type": "markdown",
   "source": "### Social factors - smoking, alcohol consumption",
   "id": "ed5cc0c09c4bb29e"
  },
  {
   "metadata": {},
   "cell_type": "markdown",
   "source": "#### Fajčenie",
   "id": "7bb4761529ff961d"
  },
  {
   "metadata": {
    "ExecuteTime": {
     "end_time": "2025-02-05T00:42:34.201642Z",
     "start_time": "2025-02-05T00:42:34.189111Z"
    }
   },
   "cell_type": "code",
   "source": [
    "from data_preparation.utils import fajcenie\n",
    "\n",
    "df[\"Fajčenie\"] = df[\"Návyková anamnéza\"].apply(fajcenie)"
   ],
   "id": "3260347ae558b7ee",
   "outputs": [],
   "execution_count": 85
  },
  {
   "metadata": {},
   "cell_type": "markdown",
   "source": "#### Alkohol",
   "id": "51a321b83ce7a7d4"
  },
  {
   "metadata": {
    "ExecuteTime": {
     "end_time": "2025-02-05T00:42:34.407393Z",
     "start_time": "2025-02-05T00:42:34.393179Z"
    }
   },
   "cell_type": "code",
   "source": [
    "from data_preparation.utils import alkohol\n",
    "\n",
    "df[\"Alkohol\"] = df[\"Návyková anamnéza\"].apply(alkohol)"
   ],
   "id": "e4753b3d40aebb55",
   "outputs": [],
   "execution_count": 86
  },
  {
   "metadata": {},
   "cell_type": "markdown",
   "source": [
    "### Test results transformation\n",
    "\n",
    "Transform test results for each column to 4 separate columns each: 1st, last, min, max\n",
    "Each value is formatted as follows: `{date} {time} | {value as number with comma for decimal point}; <repeat...>;` \n",
    "We extract only the value as float and ignore the rest.\n",
    "\n",
    "Columns to transform:\n",
    "S-Bil-T, S-AST, S-ALT\tS-GMT, S-ALP, S-Chol, \n",
    "S-CB, S-Na, S-K, S-CL, S-IgG, S-IgA, S-Ig M, \n",
    "S-CRP, S-Alb, S-Gluk, S-Urea, S-Kreat, S-KM, \n",
    "S-AMS, S-CK, S-CK-MB, S-LD, P-Laktát, S-FER,\n",
    "S-IL6, HGB, WBC, PLT, Neu abs, Eo abs, Ly abs,\n",
    "PT (INR), APTT-R, Fib, CD3+, CD4+, CD8+, \n",
    "CD4+/CD8+, PDW, CD19+, NK, NE/LY(NLR), D-dimér HS\n"
   ],
   "id": "8eb924939a52a262"
  },
  {
   "metadata": {
    "ExecuteTime": {
     "end_time": "2025-02-05T00:42:34.533197Z",
     "start_time": "2025-02-05T00:42:34.520104Z"
    }
   },
   "cell_type": "code",
   "source": [
    "COLUMNS_TO_TRANSFORM = [\n",
    "    \"S-Bil-T\",\n",
    "    \"S-AST\",\n",
    "    \"S-ALT\",\n",
    "    \"S-GMT\",\n",
    "    \"S-ALP\",\n",
    "    \"S-Chol\",\n",
    "    \"S-CB\",\n",
    "    \"S-Na\",\n",
    "    \"S-K\",\n",
    "    \"S-CL\",\n",
    "    \"S-IgG\",\n",
    "    \"S-IgA\",\n",
    "    \"S-Ig M\",\n",
    "    \"S-CRP\",\n",
    "    \"S-Alb\",\n",
    "    \"S-Gluk\",\n",
    "    \"S-Urea\",\n",
    "    \"S-Kreat\",\n",
    "    \"S-KM\",\n",
    "    \"S-AMS\",\n",
    "    \"S-CK\",\n",
    "    \"S-CK-MB\",\n",
    "    \"S-LD\",\n",
    "    \"P-Laktát\",\n",
    "    \"S-FER\",\n",
    "    \"S-IL6\",\n",
    "    \"HGB\",\n",
    "    \"WBC\",\n",
    "    \"PLT\",\n",
    "    \"Neu abs\",\n",
    "    \"Eo abs\",\n",
    "    \"Ly abs\",\n",
    "    \"PT (INR)\",\n",
    "    \"APTT-R\",\n",
    "    \"Fib\",\n",
    "    \"CD3+\",\n",
    "    \"CD4+\",\n",
    "    \"CD8+\",\n",
    "    \"CD4+/CD8+\",\n",
    "    \"PDW\",\n",
    "    \"CD19+\",\n",
    "    \"NK\",\n",
    "    \"NE/LY(NLR)\",\n",
    "    \"D-dimér HS\",\n",
    "]"
   ],
   "id": "5ca68c1e97053e4d",
   "outputs": [],
   "execution_count": 87
  },
  {
   "metadata": {
    "ExecuteTime": {
     "end_time": "2025-02-05T00:42:36.625074Z",
     "start_time": "2025-02-05T00:42:34.551105Z"
    }
   },
   "cell_type": "code",
   "source": [
    "from utils import create_labs_column\n",
    "\n",
    "\n",
    "df = create_labs_column(df, COLUMNS_TO_TRANSFORM)"
   ],
   "id": "57e238a4043c2431",
   "outputs": [
    {
     "name": "stdout",
     "output_type": "stream",
     "text": [
      "PROCESSING COLUMN: S-Bil-T\n",
      "PROCESSING COLUMN: S-AST\n",
      "[INVALID] Row 805: No valid values found in 12.09.2022 06:00:00 | bude;\n",
      "PROCESSING COLUMN: S-ALT\n",
      "[INVALID] Row 805: No valid values found in 12.09.2022 06:00:00 | bude;\n",
      "PROCESSING COLUMN: S-GMT\n",
      "[INVALID] Row 805: No valid values found in 12.09.2022 06:00:00 | bude;\n",
      "PROCESSING COLUMN: S-ALP\n",
      "[INVALID] Row 805: No valid values found in 12.09.2022 06:00:00 | bude;\n",
      "PROCESSING COLUMN: S-Chol\n",
      "PROCESSING COLUMN: S-CB\n",
      "[INVALID] Row 251: No valid values found in 11.09.2022 06:27:00 | bude;\n",
      "PROCESSING COLUMN: S-Na\n",
      "[INVALID] Row 805: No valid values found in 12.09.2022 06:00:00 | bude;\n",
      "PROCESSING COLUMN: S-K\n",
      "[INVALID] Row 805: No valid values found in 12.09.2022 06:00:00 | bude;\n",
      "PROCESSING COLUMN: S-CL\n",
      "[INVALID] Row 805: No valid values found in 12.09.2022 06:00:00 | bude;\n",
      "PROCESSING COLUMN: S-IgG\n",
      "PROCESSING COLUMN: S-IgA\n",
      "PROCESSING COLUMN: S-Ig M\n",
      "PROCESSING COLUMN: S-CRP\n",
      "[INVALID] Row 805: No valid values found in 12.09.2022 06:00:00 | bude;\n",
      "PROCESSING COLUMN: S-Alb\n",
      "[INVALID] Row 251: No valid values found in 11.09.2022 06:27:00 | bude;\n",
      "PROCESSING COLUMN: S-Gluk\n",
      "[INVALID] Row 805: No valid values found in 12.09.2022 06:00:00 | bude;\n",
      "PROCESSING COLUMN: S-Urea\n",
      "[INVALID] Row 805: No valid values found in 12.09.2022 06:00:00 | bude;\n",
      "PROCESSING COLUMN: S-Kreat\n",
      "[INVALID] Row 805: No valid values found in 12.09.2022 06:00:00 | bude;\n",
      "PROCESSING COLUMN: S-KM\n",
      "[INVALID] Row 128: No valid values found in 01.10.2022 07:00:00 | bude;\n",
      "PROCESSING COLUMN: S-AMS\n",
      "PROCESSING COLUMN: S-CK\n",
      "[INVALID] Row 128: No valid values found in 01.10.2022 07:00:00 | bude;\n",
      "[INVALID] Row 451: No valid values found in 05.01.2022 12:26:00 | hemolýza;\n",
      "PROCESSING COLUMN: S-CK-MB\n",
      "[INVALID] Row 15: No valid values found in 13.03.2022 13:11:00 | nešpecif; \n",
      "16.03.2022 11:00:00 | nešpecif;\n",
      "[INVALID] Row 128: No valid values found in 01.10.2022 07:00:00 | bude;\n",
      "[INVALID] Row 182: No valid values found in 30.12.2023 21:01:00 | nešpecif;\n",
      "[INVALID] Row 451: No valid values found in 05.01.2022 12:26:00 | hemolýza;\n",
      "[INVALID] Row 1109: No valid values found in 18.04.2022 19:05:00 | nešpecif;\n",
      "[INVALID] Row 1166: No valid values found in 07.05.2022 07:00:00 | nešpecif;\n",
      "[INVALID] Row 1177: No valid values found in 08.02.2022 17:03:00 | nešpecif; \n",
      "11.02.2022 07:00:00 | nešpecifická reakcia; \n",
      "13.02.2022 08:41:00 | nešpecif;\n",
      "PROCESSING COLUMN: S-LD\n",
      "[INVALID] Row 323: No valid values found in 31.12.2022 08:43:00 | hemolýza;\n",
      "[INVALID] Row 1190: No valid values found in 09.09.2022 07:00:00 | bude;\n",
      "PROCESSING COLUMN: P-Laktát\n",
      "[INVALID] Row 127: No valid values found in 22.02.2022 12:00:00 | nedodane;\n",
      "[INVALID] Row 341: No valid values found in 20.03.2022 16:00:00 | nedodane;\n",
      "[INVALID] Row 865: No valid values found in 23.04.2022 14:32:00 | nedodane;\n",
      "[INVALID] Row 1077: No valid values found in 11.03.2022 22:32:00 | nedodane;\n",
      "PROCESSING COLUMN: S-FER\n",
      "PROCESSING COLUMN: S-IL6\n",
      "[INVALID] Row 341: No valid values found in 20.03.2022 16:00:00 | >5000;\n",
      "[INVALID] Row 611: No valid values found in 02.03.2022 11:49:00 | >5000;\n",
      "[INVALID] Row 751: No valid values found in 16.12.2022 07:00:00 | <1,5;\n",
      "[INVALID] Row 805: No valid values found in 12.09.2022 06:00:00 | bude;\n",
      "PROCESSING COLUMN: HGB\n",
      "PROCESSING COLUMN: WBC\n",
      "PROCESSING COLUMN: PLT\n",
      "PROCESSING COLUMN: Neu abs\n",
      "PROCESSING COLUMN: Eo abs\n",
      "PROCESSING COLUMN: Ly abs\n",
      "PROCESSING COLUMN: PT (INR)\n",
      "[INVALID] Row 341: No valid values found in 20.03.2022 16:00:00 | málo vzorky;\n",
      "[INVALID] Row 1104: No valid values found in 20.10.2022 07:00:00 | zlý odber;\n",
      "[INVALID] Row 1188: No valid values found in 26.04.2022 06:00:00 | zrazená vzorka;\n",
      "PROCESSING COLUMN: APTT-R\n",
      "[INVALID] Row 341: No valid values found in 20.03.2022 16:00:00 | málo vzorky;\n",
      "[INVALID] Row 1104: No valid values found in 20.10.2022 07:00:00 | zlý odber;\n",
      "[INVALID] Row 1188: No valid values found in 26.04.2022 06:00:00 | zrazená vzorka;\n",
      "PROCESSING COLUMN: Fib\n",
      "[INVALID] Row 341: No valid values found in 20.03.2022 16:00:00 | málo vzorky;\n",
      "[INVALID] Row 1104: No valid values found in 20.10.2022 07:00:00 | zlý odber;\n",
      "PROCESSING COLUMN: CD3+\n",
      "[INVALID] Row 716: No valid values found in 23.01.2024 09:56:00 | nevyšetrené;\n",
      "[INVALID] Row 759: No valid values found in 10.10.2022 09:38:00 | nehodnotiteľné;\n",
      "[INVALID] Row 923: No valid values found in 23.09.2022 07:00:00 | nevyšetrené;\n",
      "PROCESSING COLUMN: CD4+\n",
      "[INVALID] Row 716: No valid values found in 23.01.2024 09:56:00 | nevyšetrené;\n",
      "[INVALID] Row 759: No valid values found in 10.10.2022 09:38:00 | nehodnotiteľné;\n",
      "[INVALID] Row 923: No valid values found in 23.09.2022 07:00:00 | nevyšetrené;\n",
      "PROCESSING COLUMN: CD8+\n",
      "[INVALID] Row 716: No valid values found in 23.01.2024 09:56:00 | nevyšetrené;\n",
      "[INVALID] Row 759: No valid values found in 10.10.2022 09:38:00 | nehodnotiteľné;\n",
      "[INVALID] Row 923: No valid values found in 23.09.2022 07:00:00 | nevyšetrené;\n",
      "PROCESSING COLUMN: CD4+/CD8+\n",
      "PROCESSING COLUMN: PDW\n",
      "PROCESSING COLUMN: CD19+\n",
      "[INVALID] Row 716: No valid values found in 23.01.2024 09:56:00 | negat.;\n",
      "[INVALID] Row 759: No valid values found in 10.10.2022 09:38:00 | nehodnotiteľné;\n",
      "[INVALID] Row 923: No valid values found in 23.09.2022 07:00:00 | nevyšetrené;\n",
      "PROCESSING COLUMN: NK\n",
      "[INVALID] Row 716: No valid values found in 23.01.2024 09:56:00 | nevyšetrené;\n",
      "[INVALID] Row 759: No valid values found in 10.10.2022 09:38:00 | nehodnotiteľné;\n",
      "[INVALID] Row 923: No valid values found in 23.09.2022 07:00:00 | nevyšetrené;\n",
      "PROCESSING COLUMN: NE/LY(NLR)\n",
      "[INVALID] Row 341: No valid values found in 20.03.2022 16:00:00 | málo vzorky;\n",
      "PROCESSING COLUMN: D-dimér HS\n",
      "[INVALID] Row 341: No valid values found in 20.03.2022 16:00:00 | málo vzorky;\n",
      "[INVALID] Row 1104: No valid values found in 20.10.2022 07:00:00 | zlý odber;\n"
     ]
    }
   ],
   "execution_count": 88
  },
  {
   "metadata": {},
   "cell_type": "markdown",
   "source": [
    "### [2] Chronic diseases and comorbidities\n",
    "- Hypertenzia\n",
    "- Diabetes mellitus\n",
    "- Kardiovaskulárne ochorenia (napr. srdcové zlyhanie, ischemická choroba srdca)\n",
    "- Chronické respiračné ochorenia (napr. chronická obštrukčná choroba pľúc, astma)\n",
    "- Renálne ochorenia (napr. chronické zlyhanie obličiek)\n",
    "- Pečeňové ochorenia\n",
    "- Onkologické ochorenia\n",
    "- Imunosupresia (vrátane užívania imunosupresív alebo HIV)\n",
    "\n"
   ],
   "id": "2bdeb8c4d4d4011a"
  },
  {
   "metadata": {},
   "cell_type": "markdown",
   "source": "#### Hypertenzia",
   "id": "b57aca5f85f27945"
  },
  {
   "metadata": {
    "ExecuteTime": {
     "end_time": "2025-02-05T00:42:36.671932Z",
     "start_time": "2025-02-05T00:42:36.658631Z"
    }
   },
   "cell_type": "code",
   "source": "keywords = [\"Hypertenzia\", \"vysoký krvný tlak\"]",
   "id": "20f65f23c901d6a4",
   "outputs": [],
   "execution_count": 89
  },
  {
   "metadata": {
    "ExecuteTime": {
     "end_time": "2025-02-05T00:42:36.747543Z",
     "start_time": "2025-02-05T00:42:36.704238Z"
    }
   },
   "cell_type": "code",
   "source": [
    "from data_preparation.utils import detect_keywords\n",
    "\n",
    "df[\"Hypertenzia\"] = df.apply(detect_keywords, axis=1, keywords=keywords)"
   ],
   "id": "9f356062b867668d",
   "outputs": [],
   "execution_count": 90
  },
  {
   "metadata": {},
   "cell_type": "markdown",
   "source": "#### Diabetes mellitus",
   "id": "f2f073fe2849029e"
  },
  {
   "metadata": {
    "ExecuteTime": {
     "end_time": "2025-02-05T00:42:36.794040Z",
     "start_time": "2025-02-05T00:42:36.780562Z"
    }
   },
   "cell_type": "code",
   "source": "keywords = [\"Diabetes\", \"cukrovka\"]",
   "id": "9634ed480b168f43",
   "outputs": [],
   "execution_count": 91
  },
  {
   "metadata": {
    "ExecuteTime": {
     "end_time": "2025-02-05T00:42:36.901231Z",
     "start_time": "2025-02-05T00:42:36.827102Z"
    }
   },
   "cell_type": "code",
   "source": "df[\"Diabetes mellitus\"] = df.apply(detect_keywords, axis=1, keywords=keywords)",
   "id": "81429c3b57225ad7",
   "outputs": [],
   "execution_count": 92
  },
  {
   "metadata": {},
   "cell_type": "markdown",
   "source": "#### Kardiovaskulárne ochorenia",
   "id": "c0abb461bedd7bfc"
  },
  {
   "metadata": {
    "ExecuteTime": {
     "end_time": "2025-02-05T00:42:36.947819Z",
     "start_time": "2025-02-05T00:42:36.934716Z"
    }
   },
   "cell_type": "code",
   "source": [
    "keywords = [\n",
    "    \"Kardiovaskulárne\",\n",
    "    \"srdcové zlyhanie\",\n",
    "    \"ischemická choroba srdca\",\n",
    "    \"angina pectoris\",\n",
    "    \"infarkt\",\n",
    "    \"aritmia\",\n",
    "    \"flutter\",\n",
    "    \"fibrilácia predsiení\",\n",
    "    \"dilatácia aorty\",\n",
    "    \"hypertenzia\",\n",
    "    \"mitrálna regurgitácia\",\n",
    "]"
   ],
   "id": "c066b2c97788276a",
   "outputs": [],
   "execution_count": 93
  },
  {
   "metadata": {
    "ExecuteTime": {
     "end_time": "2025-02-05T00:42:37.230455Z",
     "start_time": "2025-02-05T00:42:36.980744Z"
    }
   },
   "cell_type": "code",
   "source": "df[\"Kardiovaskulárne ochorenia\"] = df.apply(detect_keywords, axis=1, keywords=keywords)",
   "id": "9c98c494942ddde9",
   "outputs": [],
   "execution_count": 94
  },
  {
   "metadata": {},
   "cell_type": "markdown",
   "source": "#### Chronické respiračné ochorenia",
   "id": "4dbdbae96fe782aa"
  },
  {
   "metadata": {
    "ExecuteTime": {
     "end_time": "2025-02-05T00:42:37.276549Z",
     "start_time": "2025-02-05T00:42:37.264467Z"
    }
   },
   "cell_type": "code",
   "source": [
    "keywords = [\n",
    "    \"chronická obštrukčná\",\n",
    "    \"choroba pľúc\",\n",
    "    \"astma\",\n",
    "    \"emfyzém\",\n",
    "    \"bronchitída\",\n",
    "    \"pľúcna fibóza\",\n",
    "]"
   ],
   "id": "e9a66c969892ece4",
   "outputs": [],
   "execution_count": 95
  },
  {
   "metadata": {
    "ExecuteTime": {
     "end_time": "2025-02-05T00:42:37.510221Z",
     "start_time": "2025-02-05T00:42:37.308633Z"
    }
   },
   "cell_type": "code",
   "source": [
    "df[\"Chronické respiračné ochorenia\"] = df.apply(\n",
    "    detect_keywords, axis=1, keywords=keywords\n",
    ")"
   ],
   "id": "85ead078d254fda6",
   "outputs": [],
   "execution_count": 96
  },
  {
   "metadata": {},
   "cell_type": "markdown",
   "source": "#### Renálne ochorenia",
   "id": "30e6e9ee49207292"
  },
  {
   "metadata": {
    "ExecuteTime": {
     "end_time": "2025-02-05T00:42:37.557143Z",
     "start_time": "2025-02-05T00:42:37.544144Z"
    }
   },
   "cell_type": "code",
   "source": [
    "keywords = [\n",
    "    \"chronické zlyhanie obličiek\",\n",
    "    \"renálna insuficiencia\",\n",
    "    \"glomerulonefritída\",\n",
    "    \"pyelonefritída\",\n",
    "    \"nefrolitiáza\",\n",
    "    \"nefropatia\",\n",
    "    \"Nefritický\",\n",
    "    \"insuficiencia\",\n",
    "]"
   ],
   "id": "75a3e0a31784f1cc",
   "outputs": [],
   "execution_count": 97
  },
  {
   "metadata": {
    "ExecuteTime": {
     "end_time": "2025-02-05T00:42:37.887995Z",
     "start_time": "2025-02-05T00:42:37.590144Z"
    }
   },
   "cell_type": "code",
   "source": "df[\"Renálne ochorenia\"] = df.apply(detect_keywords, axis=1, keywords=keywords)",
   "id": "e3f9d6db04fd92b5",
   "outputs": [],
   "execution_count": 98
  },
  {
   "metadata": {},
   "cell_type": "markdown",
   "source": "#### Pečeňové ochorenia",
   "id": "cb63b31fef8641f1"
  },
  {
   "metadata": {
    "ExecuteTime": {
     "end_time": "2025-02-05T00:42:37.963973Z",
     "start_time": "2025-02-05T00:42:37.951972Z"
    }
   },
   "cell_type": "code",
   "source": [
    "keywords = [\n",
    "    \"cirhóza\",\n",
    "    \"hepatitída\",\n",
    "    \"fibróza\",\n",
    "    \"cholestáza\",\n",
    "]"
   ],
   "id": "574ad2963ac9e89c",
   "outputs": [],
   "execution_count": 99
  },
  {
   "metadata": {
    "ExecuteTime": {
     "end_time": "2025-02-05T00:42:38.150354Z",
     "start_time": "2025-02-05T00:42:37.982127Z"
    }
   },
   "cell_type": "code",
   "source": "df[\"Pečeňové ochorenia\"] = df.apply(detect_keywords, axis=1, keywords=keywords)",
   "id": "e155242f73bb00ee",
   "outputs": [],
   "execution_count": 100
  },
  {
   "metadata": {},
   "cell_type": "markdown",
   "source": "#### Onkologické ochorenia",
   "id": "c7a57e8aece7b2a5"
  },
  {
   "metadata": {
    "ExecuteTime": {
     "end_time": "2025-02-05T00:42:38.197362Z",
     "start_time": "2025-02-05T00:42:38.184351Z"
    }
   },
   "cell_type": "code",
   "source": [
    "keywords = [\"onkológ\", \"nádor\", \"tumor\", \"rakovin\"]"
   ],
   "id": "9a11766f4e9b1895",
   "outputs": [],
   "execution_count": 101
  },
  {
   "metadata": {
    "ExecuteTime": {
     "end_time": "2025-02-05T00:42:38.418164Z",
     "start_time": "2025-02-05T00:42:38.247879Z"
    }
   },
   "cell_type": "code",
   "source": "df[\"Onkologické ochorenia\"] = df.apply(detect_keywords, axis=1, keywords=keywords)",
   "id": "7613fe9830ada3e3",
   "outputs": [],
   "execution_count": 102
  },
  {
   "metadata": {},
   "cell_type": "markdown",
   "source": "#### Imunosupresia",
   "id": "99d4488975f50ef1"
  },
  {
   "metadata": {
    "ExecuteTime": {
     "end_time": "2025-02-05T00:42:38.466085Z",
     "start_time": "2025-02-05T00:42:38.453078Z"
    }
   },
   "cell_type": "code",
   "source": [
    "keywords = [\n",
    "    \"imunosupres\",\n",
    "    \"kortikoster\",\n",
    "    \"cyklofosfamid\",\n",
    "    \"HIV\",\n",
    "    \"antiretrovirálne\",\n",
    "]"
   ],
   "id": "95eaf96d8bd2d30",
   "outputs": [],
   "execution_count": 103
  },
  {
   "metadata": {
    "ExecuteTime": {
     "end_time": "2025-02-05T00:42:38.717463Z",
     "start_time": "2025-02-05T00:42:38.501087Z"
    }
   },
   "cell_type": "code",
   "source": "df[\"Imunosupresia\"] = df.apply(detect_keywords, axis=1, keywords=keywords)",
   "id": "30bc4fe8fdd0419a",
   "outputs": [],
   "execution_count": 104
  },
  {
   "metadata": {},
   "cell_type": "markdown",
   "source": "### [9] Vaccination",
   "id": "e944db6c2ba81729"
  },
  {
   "metadata": {
    "ExecuteTime": {
     "end_time": "2025-02-05T00:42:39.318797Z",
     "start_time": "2025-02-05T00:42:38.751464Z"
    }
   },
   "cell_type": "code",
   "source": [
    "from data_preparation.utils import detect_vaccination\n",
    "\n",
    "df[\"Vakcinácia\"] = df.apply(\n",
    "    detect_vaccination,\n",
    "    axis=1,\n",
    "    positive_keywords=[\"vakcín\", \"vakcin\", \"očkovan\"],\n",
    "    negative_keywords=[\n",
    "        r\"\\bne.+\\s?očkov\",\n",
    "        \"neočkov\",\n",
    "        r\"očkov.+\\s?\\bne\",\n",
    "        r\"očkov.+\\s?\\bnie\",\n",
    "        \"nie je očkov\",\n",
    "        \"nepodstúpil očkov\",\n",
    "        \"nepodstúpila očkov\",\n",
    "        \"vakcín.+\\s?\\bne\",\n",
    "        \"vakcín.+\\s?\\bnie\",\n",
    "    ],\n",
    ")"
   ],
   "id": "4214c0acac9d9550",
   "outputs": [],
   "execution_count": 105
  },
  {
   "metadata": {
    "ExecuteTime": {
     "end_time": "2025-02-05T00:42:39.570997Z",
     "start_time": "2025-02-05T00:42:39.352024Z"
    }
   },
   "cell_type": "code",
   "source": [
    "from data_preparation.utils import get_vaccination_type\n",
    "\n",
    "df[\"Typ vakcíny\"] = df.apply(get_vaccination_type, axis=1)\n",
    "# update vaccination column where vaccination type is not null to True\n",
    "df.loc[df[\"Typ vakcíny\"].notnull(), \"Vakcinácia\"] = True"
   ],
   "id": "bda98e95e8102605",
   "outputs": [],
   "execution_count": 106
  },
  {
   "metadata": {
    "ExecuteTime": {
     "end_time": "2025-02-05T00:42:40.188952Z",
     "start_time": "2025-02-05T00:42:39.604688Z"
    }
   },
   "cell_type": "code",
   "source": [
    "from data_preparation.utils import get_vaccination_count\n",
    "\n",
    "df[\"Počet dávok\"] = df.apply(get_vaccination_count, axis=1)"
   ],
   "id": "e42962380d9a6707",
   "outputs": [],
   "execution_count": 107
  },
  {
   "metadata": {},
   "cell_type": "markdown",
   "source": "### [12] Medication",
   "id": "831e56c4441df00b"
  },
  {
   "metadata": {
    "ExecuteTime": {
     "end_time": "2025-02-05T00:42:40.220286Z",
     "start_time": "2025-02-05T00:42:40.206897Z"
    }
   },
   "cell_type": "code",
   "source": "",
   "id": "80694cf05f9ac67f",
   "outputs": [],
   "execution_count": null
  },
  {
   "metadata": {
    "ExecuteTime": {
     "end_time": "2025-02-05T00:42:42.338333Z",
     "start_time": "2025-02-05T00:42:40.253718Z"
    }
   },
   "cell_type": "code",
   "source": [
    "from core.constants import MEDICATIONS\n",
    "from data_preparation.utils import detect_medication\n",
    "\n",
    "for medication in MEDICATIONS:\n",
    "    keywords = [keyword for keyword in medication.split() if len(keyword) > 2]\n",
    "    df[medication] = df.apply(detect_medication, axis=1, keywords=keywords)"
   ],
   "id": "d879e1568b6dcecd",
   "outputs": [
    {
     "name": "stderr",
     "output_type": "stream",
     "text": [
      "C:\\Users\\pavol\\AppData\\Local\\Temp\\ipykernel_24236\\1382589709.py:6: PerformanceWarning: DataFrame is highly fragmented.  This is usually the result of calling `frame.insert` many times, which has poor performance.  Consider joining all columns at once using pd.concat(axis=1) instead. To get a de-fragmented frame, use `newframe = frame.copy()`\n",
      "  df[medication] = df.apply(detect_medication, axis=1, keywords=keywords)\n",
      "C:\\Users\\pavol\\AppData\\Local\\Temp\\ipykernel_24236\\1382589709.py:6: PerformanceWarning: DataFrame is highly fragmented.  This is usually the result of calling `frame.insert` many times, which has poor performance.  Consider joining all columns at once using pd.concat(axis=1) instead. To get a de-fragmented frame, use `newframe = frame.copy()`\n",
      "  df[medication] = df.apply(detect_medication, axis=1, keywords=keywords)\n",
      "C:\\Users\\pavol\\AppData\\Local\\Temp\\ipykernel_24236\\1382589709.py:6: PerformanceWarning: DataFrame is highly fragmented.  This is usually the result of calling `frame.insert` many times, which has poor performance.  Consider joining all columns at once using pd.concat(axis=1) instead. To get a de-fragmented frame, use `newframe = frame.copy()`\n",
      "  df[medication] = df.apply(detect_medication, axis=1, keywords=keywords)\n",
      "C:\\Users\\pavol\\AppData\\Local\\Temp\\ipykernel_24236\\1382589709.py:6: PerformanceWarning: DataFrame is highly fragmented.  This is usually the result of calling `frame.insert` many times, which has poor performance.  Consider joining all columns at once using pd.concat(axis=1) instead. To get a de-fragmented frame, use `newframe = frame.copy()`\n",
      "  df[medication] = df.apply(detect_medication, axis=1, keywords=keywords)\n",
      "C:\\Users\\pavol\\AppData\\Local\\Temp\\ipykernel_24236\\1382589709.py:6: PerformanceWarning: DataFrame is highly fragmented.  This is usually the result of calling `frame.insert` many times, which has poor performance.  Consider joining all columns at once using pd.concat(axis=1) instead. To get a de-fragmented frame, use `newframe = frame.copy()`\n",
      "  df[medication] = df.apply(detect_medication, axis=1, keywords=keywords)\n",
      "C:\\Users\\pavol\\AppData\\Local\\Temp\\ipykernel_24236\\1382589709.py:6: PerformanceWarning: DataFrame is highly fragmented.  This is usually the result of calling `frame.insert` many times, which has poor performance.  Consider joining all columns at once using pd.concat(axis=1) instead. To get a de-fragmented frame, use `newframe = frame.copy()`\n",
      "  df[medication] = df.apply(detect_medication, axis=1, keywords=keywords)\n",
      "C:\\Users\\pavol\\AppData\\Local\\Temp\\ipykernel_24236\\1382589709.py:6: PerformanceWarning: DataFrame is highly fragmented.  This is usually the result of calling `frame.insert` many times, which has poor performance.  Consider joining all columns at once using pd.concat(axis=1) instead. To get a de-fragmented frame, use `newframe = frame.copy()`\n",
      "  df[medication] = df.apply(detect_medication, axis=1, keywords=keywords)\n",
      "C:\\Users\\pavol\\AppData\\Local\\Temp\\ipykernel_24236\\1382589709.py:6: PerformanceWarning: DataFrame is highly fragmented.  This is usually the result of calling `frame.insert` many times, which has poor performance.  Consider joining all columns at once using pd.concat(axis=1) instead. To get a de-fragmented frame, use `newframe = frame.copy()`\n",
      "  df[medication] = df.apply(detect_medication, axis=1, keywords=keywords)\n",
      "C:\\Users\\pavol\\AppData\\Local\\Temp\\ipykernel_24236\\1382589709.py:6: PerformanceWarning: DataFrame is highly fragmented.  This is usually the result of calling `frame.insert` many times, which has poor performance.  Consider joining all columns at once using pd.concat(axis=1) instead. To get a de-fragmented frame, use `newframe = frame.copy()`\n",
      "  df[medication] = df.apply(detect_medication, axis=1, keywords=keywords)\n"
     ]
    }
   ],
   "execution_count": 108
  },
  {
   "metadata": {},
   "cell_type": "markdown",
   "source": "### Additional data transformation",
   "id": "5c7e465c80b00aa4"
  },
  {
   "metadata": {
    "ExecuteTime": {
     "end_time": "2025-02-05T00:42:42.430698Z",
     "start_time": "2025-02-05T00:42:42.402004Z"
    }
   },
   "cell_type": "code",
   "source": [
    "from data_preparation.utils import overcame_covid\n",
    "\n",
    "df[\"Prekonal COVID-19\"] = df.apply(overcame_covid, axis=1)"
   ],
   "id": "d6806a05788ccc6e",
   "outputs": [
    {
     "name": "stderr",
     "output_type": "stream",
     "text": [
      "C:\\Users\\pavol\\AppData\\Local\\Temp\\ipykernel_24236\\3801324658.py:3: PerformanceWarning: DataFrame is highly fragmented.  This is usually the result of calling `frame.insert` many times, which has poor performance.  Consider joining all columns at once using pd.concat(axis=1) instead. To get a de-fragmented frame, use `newframe = frame.copy()`\n",
      "  df[\"Prekonal COVID-19\"] = df.apply(overcame_covid, axis=1)\n"
     ]
    }
   ],
   "execution_count": 109
  },
  {
   "metadata": {},
   "cell_type": "markdown",
   "source": "### A04.7",
   "id": "281450b0da0fefd1"
  },
  {
   "metadata": {
    "ExecuteTime": {
     "end_time": "2025-02-05T00:42:42.478151Z",
     "start_time": "2025-02-05T00:42:42.439054Z"
    }
   },
   "cell_type": "code",
   "source": [
    "from data_preparation.utils import detect_a047\n",
    "\n",
    "df[\"A04.7\"] = df.apply(detect_a047, axis=1)"
   ],
   "id": "3acf01446c29e950",
   "outputs": [
    {
     "name": "stderr",
     "output_type": "stream",
     "text": [
      "C:\\Users\\pavol\\AppData\\Local\\Temp\\ipykernel_24236\\301269474.py:3: PerformanceWarning: DataFrame is highly fragmented.  This is usually the result of calling `frame.insert` many times, which has poor performance.  Consider joining all columns at once using pd.concat(axis=1) instead. To get a de-fragmented frame, use `newframe = frame.copy()`\n",
      "  df[\"A04.7\"] = df.apply(detect_a047, axis=1)\n"
     ]
    }
   ],
   "execution_count": 110
  },
  {
   "metadata": {},
   "cell_type": "markdown",
   "source": "### Sat02",
   "id": "b1babade3e6ea624"
  },
  {
   "metadata": {
    "ExecuteTime": {
     "end_time": "2025-02-05T00:42:42.743583Z",
     "start_time": "2025-02-05T00:42:42.511405Z"
    }
   },
   "cell_type": "code",
   "source": [
    "from data_preparation.utils import detect_satO2\n",
    "\n",
    "df[\"SatO2 %\"] = df.apply(detect_satO2, axis=1)"
   ],
   "id": "dde2f867d5cbc680",
   "outputs": [
    {
     "name": "stderr",
     "output_type": "stream",
     "text": [
      "C:\\Users\\pavol\\AppData\\Local\\Temp\\ipykernel_24236\\98988168.py:3: PerformanceWarning: DataFrame is highly fragmented.  This is usually the result of calling `frame.insert` many times, which has poor performance.  Consider joining all columns at once using pd.concat(axis=1) instead. To get a de-fragmented frame, use `newframe = frame.copy()`\n",
      "  df[\"SatO2 %\"] = df.apply(detect_satO2, axis=1)\n"
     ]
    }
   ],
   "execution_count": 111
  },
  {
   "metadata": {
    "ExecuteTime": {
     "end_time": "2025-02-05T00:42:42.790670Z",
     "start_time": "2025-02-05T00:42:42.777324Z"
    }
   },
   "cell_type": "code",
   "source": [
    "# # show where SatO2 is None\n",
    "# result = df[df[\"SatO2 %\"].isnull()][\n",
    "#     [\"Objektívny nález\", \"Terajšie ochorenie\", \"Epikríza\"]\n",
    "# ]\n",
    "# # show where \"Sat02 %\" is 982\n",
    "# result = df[df[\"SatO2 %\"] == 0][[\"Objektívny nález\", \"Terajšie ochorenie\", \"Epikríza\"]]"
   ],
   "id": "848238903d815296",
   "outputs": [],
   "execution_count": 112
  },
  {
   "metadata": {
    "ExecuteTime": {
     "end_time": "2025-02-05T00:42:42.837176Z",
     "start_time": "2025-02-05T00:42:42.824164Z"
    }
   },
   "cell_type": "code",
   "source": "# result.head()",
   "id": "55076989bafca112",
   "outputs": [],
   "execution_count": 113
  },
  {
   "metadata": {
    "ExecuteTime": {
     "end_time": "2025-02-05T00:42:42.884983Z",
     "start_time": "2025-02-05T00:42:42.871165Z"
    }
   },
   "cell_type": "code",
   "source": "# result.to_excel(\"test_results_transformed.xlsx\", index=False)",
   "id": "b2dec8165537db45",
   "outputs": [],
   "execution_count": 114
  },
  {
   "metadata": {},
   "cell_type": "markdown",
   "source": "## Reorder columns",
   "id": "6cbc30c06ecb2778"
  },
  {
   "metadata": {
    "ExecuteTime": {
     "end_time": "2025-02-05T00:42:42.932870Z",
     "start_time": "2025-02-05T00:42:42.918875Z"
    }
   },
   "cell_type": "code",
   "source": [
    "# insert column A04.7 to 22nd position\n",
    "df.insert(21, \"A04.7\", df.pop(\"A04.7\"))\n",
    "df.insert(203, \"SatO2 %\", df.pop(\"SatO2 %\"))"
   ],
   "id": "21d1c27c3598eb7a",
   "outputs": [
    {
     "name": "stderr",
     "output_type": "stream",
     "text": [
      "C:\\Users\\pavol\\AppData\\Local\\Temp\\ipykernel_24236\\3230445837.py:2: PerformanceWarning: DataFrame is highly fragmented.  This is usually the result of calling `frame.insert` many times, which has poor performance.  Consider joining all columns at once using pd.concat(axis=1) instead. To get a de-fragmented frame, use `newframe = frame.copy()`\n",
      "  df.insert(21, \"A04.7\", df.pop(\"A04.7\"))\n",
      "C:\\Users\\pavol\\AppData\\Local\\Temp\\ipykernel_24236\\3230445837.py:3: PerformanceWarning: DataFrame is highly fragmented.  This is usually the result of calling `frame.insert` many times, which has poor performance.  Consider joining all columns at once using pd.concat(axis=1) instead. To get a de-fragmented frame, use `newframe = frame.copy()`\n",
      "  df.insert(203, \"SatO2 %\", df.pop(\"SatO2 %\"))\n"
     ]
    }
   ],
   "execution_count": 115
  },
  {
   "metadata": {
    "ExecuteTime": {
     "end_time": "2025-02-05T00:42:43.076399Z",
     "start_time": "2025-02-05T00:42:42.967874Z"
    }
   },
   "cell_type": "code",
   "source": [
    "from data_preparation.utils import create_labs_column_2\n",
    "\n",
    "df = create_labs_column_2(df, [\"S-PBNP\", \"S-VITD\"])"
   ],
   "id": "3e454c6497026046",
   "outputs": [
    {
     "name": "stdout",
     "output_type": "stream",
     "text": [
      "PROCESSING COLUMN: S-PBNP\n",
      "[INVALID] Row 123: No valid values found in 02.01.2023 13:09:00 | >35000; \n",
      "02.01.2023 19:31:00 | >35000; \n",
      "04.01.2023 13:00:00 | >35000; \n",
      "05.01.2023 07:00:00 | >35000;\n",
      "[INVALID] Row 225: No valid values found in 31.10.2022 12:43:00 | >35000;\n",
      "[INVALID] Row 242: No valid values found in 14.07.2022 11:11:00 | >35000; \n",
      "18.07.2022 08:00:00 | >35000;\n",
      "[INVALID] Row 243: No valid values found in 24.07.2022 06:00:00 | >35000; \n",
      "28.07.2022 13:34:00 | >35000;\n",
      "[INVALID] Row 435: No valid values found in 29.11.2023 09:09:00 | >35000; \n",
      "30.11.2023 07:00:00 | >35000; \n",
      "04.12.2023 00:26:00 | >35000; \n",
      "04.12.2023 09:14:00 | >35000;\n",
      "[INVALID] Row 624: No valid values found in 10.03.2022 15:03:00 | >35000;\n",
      "[INVALID] Row 713: No valid values found in 07.08.2022 22:14:00 | >35000;\n",
      "[INVALID] Row 723: No valid values found in 16.03.2023 07:00:00 | >35000;\n",
      "[INVALID] Row 753: No valid values found in 28.11.2023 14:54:00 | >35000;\n",
      "[INVALID] Row 777: No valid values found in 15.12.2023 09:38:00 | >35000; \n",
      "17.12.2023 07:00:00 | >35000; \n",
      "20.12.2023 08:00:00 | >35000;\n",
      "[INVALID] Row 808: No valid values found in 20.08.2022 07:00:00 | >35000; \n",
      "23.08.2022 08:51:00 | >35000;\n",
      "[INVALID] Row 1031: No valid values found in 27.01.2023 07:00:00 | >35000;\n",
      "[INVALID] Row 1058: No valid values found in 08.03.2022 08:00:00 | hemolýza; \n",
      "08.03.2022 10:00:00 | >35000;\n",
      "[INVALID] Row 1183: No valid values found in 16.08.2022 19:50:00 | >35000; \n",
      "24.08.2022 08:00:00 | >35000;\n",
      "[INVALID] Row 1207: No valid values found in 09.02.2022 17:54:00 | <10,0;\n",
      "[INVALID] Row 1244: No valid values found in 21.03.2023 07:00:00 | >35000; \n",
      "24.03.2023 07:00:00 | >35000; \n",
      "28.03.2023 07:00:00 | >35000;\n",
      "PROCESSING COLUMN: S-VITD\n",
      "[INVALID] Row 362: No valid values found in 04.04.2022 16:23:00 | zrušené;\n",
      "[INVALID] Row 596: No valid values found in 04.04.2022 21:29:00 | zrušené;\n",
      "[INVALID] Row 966: No valid values found in 26.09.2022 07:58:00 | bude; \n",
      "26.09.2022 08:06:00 | bude;\n"
     ]
    }
   ],
   "execution_count": 116
  },
  {
   "metadata": {
    "ExecuteTime": {
     "end_time": "2025-02-05T00:42:43.123346Z",
     "start_time": "2025-02-05T00:42:43.110195Z"
    }
   },
   "cell_type": "code",
   "source": [
    "columns_to_drop = [\n",
    "    \"Poradie\",\n",
    "    \"Typ\",\n",
    "    \"Dátum príjmu\",\n",
    "    \"Dátum prepustenia\",\n",
    "    \"Kód príjmu\",\n",
    "    \"Mikrobiológia \",\n",
    "    \"HLN Dg.\",\n",
    "    \"Diagnózy\",\n",
    "    \"DRG výkony\",\n",
    "    \"Liečba\",\n",
    "    \"SVLZ správy\",\n",
    "    \"Epikríza\",\n",
    "    \"Terajšie ochorenie\",\n",
    "    \"Dôvod hospitalizácie\",\n",
    "    \"Objektívny nález\",\n",
    "    \"Osobná anamnéza\",\n",
    "    \"Lieková anamnéza\",\n",
    "    \"Návyková anamnéza\",\n",
    "    \"Epidemiologická anamnéza\",\n",
    "    \"S-PBNP\",\n",
    "    \"S-VITD\",\n",
    "]\n",
    "df_to_save = df.drop(columns=columns_to_drop)"
   ],
   "id": "2ce76c7ca99db3e5",
   "outputs": [],
   "execution_count": 117
  },
  {
   "metadata": {},
   "cell_type": "markdown",
   "source": "# Save",
   "id": "fc6c66cedba39bb1"
  },
  {
   "metadata": {
    "ExecuteTime": {
     "end_time": "2025-02-05T00:42:48.314949Z",
     "start_time": "2025-02-05T00:42:43.156665Z"
    }
   },
   "cell_type": "code",
   "source": [
    "df_to_save.to_excel(\n",
    "    os.path.join(\"../processed_data\", f\"{FILE_NAME}_transformed.xlsx\"), index=False\n",
    ")"
   ],
   "id": "1e02f5163a217cd6",
   "outputs": [],
   "execution_count": 118
  },
  {
   "metadata": {
    "ExecuteTime": {
     "end_time": "2025-01-19T23:00:13.935468300Z",
     "start_time": "2024-11-27T09:41:08.119927Z"
    }
   },
   "cell_type": "code",
   "source": [
    "# get info where Vaccination is True\n",
    "df[df[\"Vakcinácia\"] == True & df[\"Typ vakcíny\"].isnull()][\n",
    "    [\"Epidemiologická anamnéza\", \"Epikríza\"]\n",
    "]"
   ],
   "id": "5fa439eed482e2b6",
   "outputs": [
    {
     "data": {
      "text/plain": [
       "                               Epidemiologická anamnéza  \\\n",
       "3                          EA: očkovaný 3x, neprekonal    \n",
       "5              EA: očkovaná 2x, covid pred 4 mesíacmi     \n",
       "7     EA: proti ochoreniu COVID-19 2x očkovaný, nepr...   \n",
       "9     EA: pozitívna Ag 23.3.2022 o 10 dní bola negat...   \n",
       "10                          EA: 3 očkovaný proti COVID    \n",
       "...                                                 ...   \n",
       "1237  EA: očkovaný 2x, prekonal covid-19 v novembri ...   \n",
       "1238  EA: COVID očkovanie: 4x prekonanie: 0 kontakt:...   \n",
       "1240  EA: ochorenie Covid 19 neprekonala, vakcinovan...   \n",
       "1243  EA: cela rodina COVID pozitívna, proti COVID 2...   \n",
       "1247  EA: proti ochoreniu COVID-19 3x očkovaná, nepr...   \n",
       "\n",
       "                                               Epikríza  \n",
       "3     Epikríza:   84-ročný pacient, diabetik, hypert...  \n",
       "5     Epikríza:   92- ročná pacientka v pokročilom s...  \n",
       "7     74r. pacient, hypertonik, akútne prijatý do KI...  \n",
       "9       70- ročná pacientka prijatá pre febrility, k...  \n",
       "10    73-ročný hypertonik, diabetik s anamnézou chro...  \n",
       "...                                                 ...  \n",
       "1237  73 ročný pacient prijatý na našu kliniku s dek...  \n",
       "1238  57-ročná pacientka bez významného predchorobia...  \n",
       "1240  74-ročná pacientka s artériovou hypertenziou b...  \n",
       "1243  Epikríza:   81-ročný protí COVID-19 2x očkovan...  \n",
       "1247  Epikríza:    65-ročná pacientka s DM 2. typu p...  \n",
       "\n",
       "[399 rows x 2 columns]"
      ],
      "text/html": [
       "<div>\n",
       "<style scoped>\n",
       "    .dataframe tbody tr th:only-of-type {\n",
       "        vertical-align: middle;\n",
       "    }\n",
       "\n",
       "    .dataframe tbody tr th {\n",
       "        vertical-align: top;\n",
       "    }\n",
       "\n",
       "    .dataframe thead th {\n",
       "        text-align: right;\n",
       "    }\n",
       "</style>\n",
       "<table border=\"1\" class=\"dataframe\">\n",
       "  <thead>\n",
       "    <tr style=\"text-align: right;\">\n",
       "      <th></th>\n",
       "      <th>Epidemiologická anamnéza</th>\n",
       "      <th>Epikríza</th>\n",
       "    </tr>\n",
       "  </thead>\n",
       "  <tbody>\n",
       "    <tr>\n",
       "      <th>3</th>\n",
       "      <td>EA: očkovaný 3x, neprekonal</td>\n",
       "      <td>Epikríza:   84-ročný pacient, diabetik, hypert...</td>\n",
       "    </tr>\n",
       "    <tr>\n",
       "      <th>5</th>\n",
       "      <td>EA: očkovaná 2x, covid pred 4 mesíacmi</td>\n",
       "      <td>Epikríza:   92- ročná pacientka v pokročilom s...</td>\n",
       "    </tr>\n",
       "    <tr>\n",
       "      <th>7</th>\n",
       "      <td>EA: proti ochoreniu COVID-19 2x očkovaný, nepr...</td>\n",
       "      <td>74r. pacient, hypertonik, akútne prijatý do KI...</td>\n",
       "    </tr>\n",
       "    <tr>\n",
       "      <th>9</th>\n",
       "      <td>EA: pozitívna Ag 23.3.2022 o 10 dní bola negat...</td>\n",
       "      <td>70- ročná pacientka prijatá pre febrility, k...</td>\n",
       "    </tr>\n",
       "    <tr>\n",
       "      <th>10</th>\n",
       "      <td>EA: 3 očkovaný proti COVID</td>\n",
       "      <td>73-ročný hypertonik, diabetik s anamnézou chro...</td>\n",
       "    </tr>\n",
       "    <tr>\n",
       "      <th>...</th>\n",
       "      <td>...</td>\n",
       "      <td>...</td>\n",
       "    </tr>\n",
       "    <tr>\n",
       "      <th>1237</th>\n",
       "      <td>EA: očkovaný 2x, prekonal covid-19 v novembri ...</td>\n",
       "      <td>73 ročný pacient prijatý na našu kliniku s dek...</td>\n",
       "    </tr>\n",
       "    <tr>\n",
       "      <th>1238</th>\n",
       "      <td>EA: COVID očkovanie: 4x prekonanie: 0 kontakt:...</td>\n",
       "      <td>57-ročná pacientka bez významného predchorobia...</td>\n",
       "    </tr>\n",
       "    <tr>\n",
       "      <th>1240</th>\n",
       "      <td>EA: ochorenie Covid 19 neprekonala, vakcinovan...</td>\n",
       "      <td>74-ročná pacientka s artériovou hypertenziou b...</td>\n",
       "    </tr>\n",
       "    <tr>\n",
       "      <th>1243</th>\n",
       "      <td>EA: cela rodina COVID pozitívna, proti COVID 2...</td>\n",
       "      <td>Epikríza:   81-ročný protí COVID-19 2x očkovan...</td>\n",
       "    </tr>\n",
       "    <tr>\n",
       "      <th>1247</th>\n",
       "      <td>EA: proti ochoreniu COVID-19 3x očkovaná, nepr...</td>\n",
       "      <td>Epikríza:    65-ročná pacientka s DM 2. typu p...</td>\n",
       "    </tr>\n",
       "  </tbody>\n",
       "</table>\n",
       "<p>399 rows × 2 columns</p>\n",
       "</div>"
      ]
     },
     "execution_count": 530,
     "metadata": {},
     "output_type": "execute_result"
    }
   ],
   "execution_count": 530
  },
  {
   "metadata": {
    "ExecuteTime": {
     "end_time": "2024-11-27T09:41:08.411505Z",
     "start_time": "2024-11-27T09:41:08.399506Z"
    }
   },
   "cell_type": "code",
   "source": [
    "# errors_df = df[df[\"Error detected\"].notnull()]\n",
    "# cols = list(errors_df.columns)\n",
    "# cols = [cols[0]] + [cols[-1]]\n",
    "# errors_df = errors_df[cols]\n",
    "# # sort by \"Error detected\" alphabetically\n",
    "# errors_df = errors_df.sort_values(\"Error detected\")\n",
    "# errors_df.to_excel(f\"{FILE_DATA}_pochybne_riadky.xlsx\", index=False)"
   ],
   "id": "1336a836a4086da9",
   "outputs": [],
   "execution_count": 531
  },
  {
   "metadata": {
    "ExecuteTime": {
     "end_time": "2024-11-17T23:20:26.264338Z",
     "start_time": "2024-11-17T23:20:26.252336Z"
    }
   },
   "cell_type": "code",
   "source": "# df[\"Error detected\"].value_counts()",
   "id": "d4c5a485e1fd85c1",
   "outputs": [],
   "execution_count": 252
  },
  {
   "metadata": {},
   "cell_type": "markdown",
   "source": "## Correct data types",
   "id": "20882749739f64ee"
  },
  {
   "metadata": {},
   "cell_type": "code",
   "source": [
    "# dátum príjmu a dátum prepustenia by mali byť dátumovými typmi\n",
    "df[\"Dátum príjmu\"] = pd.to_datetime(df[\"Dátum príjmu\"], format=\"%d.%m.%Y\")\n",
    "df[\"Dátum prepustenia\"] = pd.to_datetime(df[\"Dátum prepustenia\"], format=\"%d.%m.%Y\")\n",
    "# Pohlavie by malo byť kategorickým typom\n",
    "df[\"Pohlavie\"] = df[\"Pohlavie\"].astype(\"category\")\n",
    "df[\"Kód prepustenia\"] = df[\"Kód prepustenia\"].astype(\"category\")\n",
    "df[\"Kód príjmu\"] = df[\"Kód príjmu\"].astype(\"category\")\n",
    "df[\"HLN Dg.\"] = df[\"HLN Dg.\"].astype(\"category\")\n",
    "df[\"Meno\"] = df[\"Meno\"].astype(\"string\")\n",
    "df.dtypes"
   ],
   "id": "66c5a08a9d8a850a",
   "outputs": [],
   "execution_count": null
  },
  {
   "metadata": {
    "ExecuteTime": {
     "end_time": "2024-11-14T12:20:06.775110Z",
     "start_time": "2024-11-14T12:19:12.903090Z"
    }
   },
   "cell_type": "code",
   "source": "sns.heatmap(df.corr(numeric_only=True), annot=True)",
   "id": "329b76d15bdd4e32",
   "outputs": [
    {
     "data": {
      "text/plain": [
       "<Axes: >"
      ]
     },
     "execution_count": 355,
     "metadata": {},
     "output_type": "execute_result"
    },
    {
     "data": {
      "text/plain": [
       "<Figure size 640x480 with 2 Axes>"
      ],
      "image/png": "[encoded data removed]"
     },
     "metadata": {},
     "output_type": "display_data"
    }
   ],
   "execution_count": 355
  },
  {
   "metadata": {},
   "cell_type": "code",
   "source": "",
   "id": "852736f55ddf0ae2",
   "outputs": [],
   "execution_count": null
  }
 ],
 "metadata": {
  "kernelspec": {
   "display_name": "Python 3",
   "language": "python",
   "name": "python3"
  },
  "language_info": {
   "codemirror_mode": {
    "name": "ipython",
    "version": 2
   },
   "file_extension": ".py",
   "mimetype": "text/x-python",
   "name": "python",
   "nbconvert_exporter": "python",
   "pygments_lexer": "ipython2",
   "version": "2.7.6"
  }
 },
 "nbformat": 4,
 "nbformat_minor": 5
}
